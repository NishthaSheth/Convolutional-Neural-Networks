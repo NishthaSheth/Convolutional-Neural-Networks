{
  "nbformat": 4,
  "nbformat_minor": 0,
  "metadata": {
    "colab": {
      "provenance": []
    },
    "kernelspec": {
      "name": "python3",
      "display_name": "Python 3"
    },
    "language_info": {
      "name": "python"
    }
  },
  "cells": [
    {
      "cell_type": "code",
      "execution_count": 46,
      "metadata": {
        "id": "Dd_1ZfKMy3Pl"
      },
      "outputs": [],
      "source": [
        "import pandas as pd\n",
        "import numpy as np\n",
        "from sklearn.preprocessing import StandardScaler\n",
        "from sklearn.model_selection import train_test_split\n",
        "from sklearn import metrics\n",
        "import matplotlib.dates as mdates\n",
        "import matplotlib.pyplot as plt\n",
        "from sklearn.metrics import roc_auc_score,r2_score,mean_absolute_error,mean_squared_error,accuracy_score,classification_report,confusion_matrix\n",
        "from tensorflow import keras\n",
        "from keras import Sequential, Model\n",
        "from keras.layers import Dense, Flatten, Add, Input, BatchNormalization, Conv2D, MaxPooling2D, Concatenate, GlobalAveragePooling2D, Dropout"
      ]
    },
    {
      "cell_type": "markdown",
      "source": [
        "# MNIST Dataset"
      ],
      "metadata": {
        "id": "IDYexSdzPIEa"
      }
    },
    {
      "cell_type": "code",
      "source": [
        "(x_train, y_train), (x_test, y_test) = keras.datasets.mnist.load_data()\n",
        "#for faster convergence, bringing all values to the same range 0-1\n",
        "x_train = x_train/255\n",
        "x_test = x_test/255\n",
        "x_train = x_train.reshape((-1, 28, 28, 1))\n",
        "x_test = x_test.reshape((-1, 28, 28, 1))"
      ],
      "metadata": {
        "colab": {
          "base_uri": "https://localhost:8080/"
        },
        "id": "PPWOjLz4zpoM",
        "outputId": "b2b72321-1fff-4c47-fad4-9217a1f4fe68"
      },
      "execution_count": 2,
      "outputs": [
        {
          "output_type": "stream",
          "name": "stdout",
          "text": [
            "Downloading data from https://storage.googleapis.com/tensorflow/tf-keras-datasets/mnist.npz\n",
            "11490434/11490434 [==============================] - 1s 0us/step\n"
          ]
        }
      ]
    },
    {
      "cell_type": "markdown",
      "source": [
        "#### Simple Model"
      ],
      "metadata": {
        "id": "U8B-cA2sO_vD"
      }
    },
    {
      "cell_type": "code",
      "source": [
        "input = Input(shape=(28, 28, 1))\n",
        "x = Conv2D(32, (3, 3), activation='relu')(input)\n",
        "x = MaxPooling2D((2, 2))(x)\n",
        "x = Flatten()(x)\n",
        "x = Dense(512, activation='relu')(x)\n",
        "x = BatchNormalization()(x)\n",
        "x = Dense(128, activation='relu')(x)\n",
        "output = Dense(10, activation='softmax')(x)\n",
        "\n",
        "model = Model(input, output)\n",
        "model.summary()"
      ],
      "metadata": {
        "colab": {
          "base_uri": "https://localhost:8080/"
        },
        "id": "hPU0hvkA0VwA",
        "outputId": "826da8ee-a985-4b68-cebe-cbce1c4435cc"
      },
      "execution_count": 25,
      "outputs": [
        {
          "output_type": "stream",
          "name": "stdout",
          "text": [
            "Model: \"model_3\"\n",
            "_________________________________________________________________\n",
            " Layer (type)                Output Shape              Param #   \n",
            "=================================================================\n",
            " input_5 (InputLayer)        [(None, 28, 28, 1)]       0         \n",
            "                                                                 \n",
            " conv2d_9 (Conv2D)           (None, 26, 26, 32)        320       \n",
            "                                                                 \n",
            " max_pooling2d_4 (MaxPoolin  (None, 13, 13, 32)        0         \n",
            " g2D)                                                            \n",
            "                                                                 \n",
            " flatten_2 (Flatten)         (None, 5408)              0         \n",
            "                                                                 \n",
            " dense_6 (Dense)             (None, 512)               2769408   \n",
            "                                                                 \n",
            " batch_normalization_1 (Bat  (None, 512)               2048      \n",
            " chNormalization)                                                \n",
            "                                                                 \n",
            " dense_7 (Dense)             (None, 128)               65664     \n",
            "                                                                 \n",
            " dense_8 (Dense)             (None, 10)                1290      \n",
            "                                                                 \n",
            "=================================================================\n",
            "Total params: 2838730 (10.83 MB)\n",
            "Trainable params: 2837706 (10.82 MB)\n",
            "Non-trainable params: 1024 (4.00 KB)\n",
            "_________________________________________________________________\n"
          ]
        }
      ]
    },
    {
      "cell_type": "code",
      "source": [
        "model.compile(loss='sparse_categorical_crossentropy', optimizer='adam',\n",
        "                metrics=['accuracy'])\n",
        "history = model.fit(x_train, y_train, batch_size=32, epochs=5, validation_split=0.2)"
      ],
      "metadata": {
        "colab": {
          "base_uri": "https://localhost:8080/"
        },
        "id": "PBSjQ0nh0rJP",
        "outputId": "573ec0ba-f167-4f29-a1aa-48016a6674c7"
      },
      "execution_count": 26,
      "outputs": [
        {
          "output_type": "stream",
          "name": "stdout",
          "text": [
            "Epoch 1/5\n",
            "1500/1500 [==============================] - 109s 72ms/step - loss: 0.1329 - accuracy: 0.9589 - val_loss: 0.0719 - val_accuracy: 0.9772\n",
            "Epoch 2/5\n",
            "1500/1500 [==============================] - 101s 67ms/step - loss: 0.0539 - accuracy: 0.9827 - val_loss: 0.0848 - val_accuracy: 0.9762\n",
            "Epoch 3/5\n",
            "1500/1500 [==============================] - 117s 78ms/step - loss: 0.0394 - accuracy: 0.9872 - val_loss: 0.0646 - val_accuracy: 0.9833\n",
            "Epoch 4/5\n",
            "1500/1500 [==============================] - 126s 84ms/step - loss: 0.0276 - accuracy: 0.9913 - val_loss: 0.0681 - val_accuracy: 0.9831\n",
            "Epoch 5/5\n",
            "1500/1500 [==============================] - 102s 68ms/step - loss: 0.0226 - accuracy: 0.9925 - val_loss: 0.0769 - val_accuracy: 0.9798\n"
          ]
        }
      ]
    },
    {
      "cell_type": "code",
      "source": [
        "y_pred = model.predict(x_test)\n",
        "y_pred = np.argmax(y_pred, axis=1)\n",
        "\n",
        "print(\"Confusion Matrix:\")\n",
        "print(confusion_matrix(y_test, y_pred))"
      ],
      "metadata": {
        "colab": {
          "base_uri": "https://localhost:8080/"
        },
        "id": "tSmfRiP601tA",
        "outputId": "f008beed-a319-4ec4-ca99-6e8bf2d6c086"
      },
      "execution_count": 27,
      "outputs": [
        {
          "output_type": "stream",
          "name": "stdout",
          "text": [
            "313/313 [==============================] - 5s 15ms/step\n",
            "Confusion Matrix:\n",
            "[[ 971    1    2    1    0    1    3    0    0    1]\n",
            " [   0 1125    1    3    0    0    4    2    0    0]\n",
            " [   1    1 1015   11    0    0    0    2    2    0]\n",
            " [   0    1    1  999    0    5    0    0    2    2]\n",
            " [   0    1    4    1  943    0    5    0    2   26]\n",
            " [   0    0    0    8    0  880    1    0    0    3]\n",
            " [   4    3    1    1    1    8  937    0    3    0]\n",
            " [   0    1   14    5    0    0    0  992    2   14]\n",
            " [   2    3    0    7    1   10    1    1  939   10]\n",
            " [   0    3    0    0    2    5    0    1    3  995]]\n"
          ]
        }
      ]
    },
    {
      "cell_type": "code",
      "source": [
        "print(classification_report(y_test, y_pred))"
      ],
      "metadata": {
        "colab": {
          "base_uri": "https://localhost:8080/"
        },
        "id": "MdYasy9XPX0w",
        "outputId": "fe2e5c98-3ae5-4771-9dc3-9cb056ab8d91"
      },
      "execution_count": 28,
      "outputs": [
        {
          "output_type": "stream",
          "name": "stdout",
          "text": [
            "              precision    recall  f1-score   support\n",
            "\n",
            "           0       0.99      0.99      0.99       980\n",
            "           1       0.99      0.99      0.99      1135\n",
            "           2       0.98      0.98      0.98      1032\n",
            "           3       0.96      0.99      0.98      1010\n",
            "           4       1.00      0.96      0.98       982\n",
            "           5       0.97      0.99      0.98       892\n",
            "           6       0.99      0.98      0.98       958\n",
            "           7       0.99      0.96      0.98      1028\n",
            "           8       0.99      0.96      0.97       974\n",
            "           9       0.95      0.99      0.97      1009\n",
            "\n",
            "    accuracy                           0.98     10000\n",
            "   macro avg       0.98      0.98      0.98     10000\n",
            "weighted avg       0.98      0.98      0.98     10000\n",
            "\n"
          ]
        }
      ]
    },
    {
      "cell_type": "markdown",
      "source": [
        "#### Model with skip connections"
      ],
      "metadata": {
        "id": "e4wOWNY7PDn9"
      }
    },
    {
      "cell_type": "code",
      "source": [
        "input = Input(shape=(28, 28, 1))\n",
        "\n",
        "conv1 = Conv2D(32, (3, 3), activation='relu', padding='same')(input)\n",
        "\n",
        "pool1 = MaxPooling2D((2, 2))(conv1)\n",
        "\n",
        "conv3 = Conv2D(64, (3, 3), activation='relu', padding='same')(pool1)\n",
        "\n",
        "skip2 = Concatenate()([pool1, conv3])\n",
        "\n",
        "pool2 = MaxPooling2D((2, 2))(skip2)\n",
        "\n",
        "x = Flatten()(pool2)\n",
        "x = Dense(128, activation='relu')(x)\n",
        "output = Dense(10, activation='softmax')(x)\n",
        "\n",
        "model = Model(input, output)\n",
        "model.summary()"
      ],
      "metadata": {
        "colab": {
          "base_uri": "https://localhost:8080/"
        },
        "id": "SmqrYzdk-1xF",
        "outputId": "aebd368d-d77a-4c7a-f326-cc5486465b7c"
      },
      "execution_count": 20,
      "outputs": [
        {
          "output_type": "stream",
          "name": "stdout",
          "text": [
            "Model: \"model_2\"\n",
            "__________________________________________________________________________________________________\n",
            " Layer (type)                Output Shape                 Param #   Connected to                  \n",
            "==================================================================================================\n",
            " input_4 (InputLayer)        [(None, 28, 28, 1)]          0         []                            \n",
            "                                                                                                  \n",
            " conv2d_7 (Conv2D)           (None, 28, 28, 32)           320       ['input_4[0][0]']             \n",
            "                                                                                                  \n",
            " max_pooling2d_2 (MaxPoolin  (None, 14, 14, 32)           0         ['conv2d_7[0][0]']            \n",
            " g2D)                                                                                             \n",
            "                                                                                                  \n",
            " conv2d_8 (Conv2D)           (None, 14, 14, 64)           18496     ['max_pooling2d_2[0][0]']     \n",
            "                                                                                                  \n",
            " concatenate_2 (Concatenate  (None, 14, 14, 96)           0         ['max_pooling2d_2[0][0]',     \n",
            " )                                                                   'conv2d_8[0][0]']            \n",
            "                                                                                                  \n",
            " max_pooling2d_3 (MaxPoolin  (None, 7, 7, 96)             0         ['concatenate_2[0][0]']       \n",
            " g2D)                                                                                             \n",
            "                                                                                                  \n",
            " flatten_1 (Flatten)         (None, 4704)                 0         ['max_pooling2d_3[0][0]']     \n",
            "                                                                                                  \n",
            " dense_4 (Dense)             (None, 128)                  602240    ['flatten_1[0][0]']           \n",
            "                                                                                                  \n",
            " dense_5 (Dense)             (None, 10)                   1290      ['dense_4[0][0]']             \n",
            "                                                                                                  \n",
            "==================================================================================================\n",
            "Total params: 622346 (2.37 MB)\n",
            "Trainable params: 622346 (2.37 MB)\n",
            "Non-trainable params: 0 (0.00 Byte)\n",
            "__________________________________________________________________________________________________\n"
          ]
        }
      ]
    },
    {
      "cell_type": "code",
      "source": [
        "keras.util.plot_model(model)"
      ],
      "metadata": {
        "id": "yXhIxss_is4l"
      },
      "execution_count": null,
      "outputs": []
    },
    {
      "cell_type": "code",
      "source": [
        "model.compile(optimizer='adam', loss='sparse_categorical_crossentropy', metrics=['accuracy'])\n",
        "model.fit(x_train, y_train, batch_size=32, epochs=5, validation_split=0.2)"
      ],
      "metadata": {
        "colab": {
          "base_uri": "https://localhost:8080/"
        },
        "id": "BbfkRISz-3zR",
        "outputId": "3854597a-fdb7-4174-d7e4-d282b749e5d8"
      },
      "execution_count": 21,
      "outputs": [
        {
          "output_type": "stream",
          "name": "stdout",
          "text": [
            "Epoch 1/5\n",
            "1500/1500 [==============================] - 77s 51ms/step - loss: 0.1314 - accuracy: 0.9593 - val_loss: 0.0595 - val_accuracy: 0.9824\n",
            "Epoch 2/5\n",
            "1500/1500 [==============================] - 78s 52ms/step - loss: 0.0455 - accuracy: 0.9855 - val_loss: 0.0492 - val_accuracy: 0.9862\n",
            "Epoch 3/5\n",
            "1500/1500 [==============================] - 80s 53ms/step - loss: 0.0309 - accuracy: 0.9900 - val_loss: 0.0319 - val_accuracy: 0.9900\n",
            "Epoch 4/5\n",
            "1500/1500 [==============================] - 86s 57ms/step - loss: 0.0216 - accuracy: 0.9929 - val_loss: 0.0393 - val_accuracy: 0.9887\n",
            "Epoch 5/5\n",
            "1500/1500 [==============================] - 78s 52ms/step - loss: 0.0178 - accuracy: 0.9939 - val_loss: 0.0331 - val_accuracy: 0.9913\n"
          ]
        },
        {
          "output_type": "execute_result",
          "data": {
            "text/plain": [
              "<keras.src.callbacks.History at 0x7dda11bd52d0>"
            ]
          },
          "metadata": {},
          "execution_count": 21
        }
      ]
    },
    {
      "cell_type": "code",
      "source": [
        "y_pred = model.predict(x_test)\n",
        "y_pred = np.argmax(y_pred, axis=1)\n",
        "\n",
        "print(\"Confusion Matrix:\")\n",
        "print(confusion_matrix(y_test, y_pred))"
      ],
      "metadata": {
        "colab": {
          "base_uri": "https://localhost:8080/"
        },
        "id": "2KyGRGVuDsyE",
        "outputId": "7f16c327-75ab-442d-f919-4a356f9fd405"
      },
      "execution_count": 23,
      "outputs": [
        {
          "output_type": "stream",
          "name": "stdout",
          "text": [
            "313/313 [==============================] - 6s 18ms/step\n",
            "Confusion Matrix:\n",
            "[[ 974    0    0    0    0    0    5    0    0    1]\n",
            " [   0 1132    0    0    0    0    3    0    0    0]\n",
            " [   2    1 1025    2    0    0    0    2    0    0]\n",
            " [   1    0    0 1006    0    2    0    0    1    0]\n",
            " [   0    1    1    0  968    0    2    0    2    8]\n",
            " [   1    0    0    3    0  887    1    0    0    0]\n",
            " [   2    1    0    0    1    2  951    0    1    0]\n",
            " [   0    2    6    1    0    0    0 1006    1   12]\n",
            " [   3    1    1    2    0    1    0    0  964    2]\n",
            " [   1    0    0    0    2    4    0    3    2  997]]\n"
          ]
        }
      ]
    },
    {
      "cell_type": "code",
      "source": [
        "print(classification_report(y_test, y_pred))"
      ],
      "metadata": {
        "colab": {
          "base_uri": "https://localhost:8080/"
        },
        "id": "thyEI60_PRB3",
        "outputId": "c599a831-b156-4491-e115-d67844c32c45"
      },
      "execution_count": 24,
      "outputs": [
        {
          "output_type": "stream",
          "name": "stdout",
          "text": [
            "              precision    recall  f1-score   support\n",
            "\n",
            "           0       0.99      0.99      0.99       980\n",
            "           1       0.99      1.00      1.00      1135\n",
            "           2       0.99      0.99      0.99      1032\n",
            "           3       0.99      1.00      0.99      1010\n",
            "           4       1.00      0.99      0.99       982\n",
            "           5       0.99      0.99      0.99       892\n",
            "           6       0.99      0.99      0.99       958\n",
            "           7       1.00      0.98      0.99      1028\n",
            "           8       0.99      0.99      0.99       974\n",
            "           9       0.98      0.99      0.98      1009\n",
            "\n",
            "    accuracy                           0.99     10000\n",
            "   macro avg       0.99      0.99      0.99     10000\n",
            "weighted avg       0.99      0.99      0.99     10000\n",
            "\n"
          ]
        }
      ]
    },
    {
      "cell_type": "markdown",
      "source": [
        "With the skip connection added to the architecture the accuracy increased from 0.98 to 0.99 for mnist dataset"
      ],
      "metadata": {
        "id": "tMCVGsIFOzwB"
      }
    },
    {
      "cell_type": "markdown",
      "source": [
        "# Cifar 10"
      ],
      "metadata": {
        "id": "YqWle3c0Q2__"
      }
    },
    {
      "cell_type": "code",
      "source": [
        "(x_train, y_train), (x_test, y_test) = keras.datasets.cifar10.load_data()\n",
        "x_train = x_train/255\n",
        "x_test = x_test/255"
      ],
      "metadata": {
        "colab": {
          "base_uri": "https://localhost:8080/"
        },
        "id": "SwSXZDb-O96A",
        "outputId": "75df5b49-0268-4eb7-eb23-d6d989bb70c6"
      },
      "execution_count": 30,
      "outputs": [
        {
          "output_type": "stream",
          "name": "stdout",
          "text": [
            "Downloading data from https://www.cs.toronto.edu/~kriz/cifar-10-python.tar.gz\n",
            "170498071/170498071 [==============================] - 6s 0us/step\n"
          ]
        }
      ]
    },
    {
      "cell_type": "code",
      "source": [
        "(x_train.shape, y_train.shape)"
      ],
      "metadata": {
        "colab": {
          "base_uri": "https://localhost:8080/"
        },
        "id": "IkokJOWcWA0g",
        "outputId": "d69ca6e2-cf9e-48a4-ce6d-9cd3848b0d9f"
      },
      "execution_count": 41,
      "outputs": [
        {
          "output_type": "execute_result",
          "data": {
            "text/plain": [
              "((50000, 32, 32, 3), (50000, 1))"
            ]
          },
          "metadata": {},
          "execution_count": 41
        }
      ]
    },
    {
      "cell_type": "markdown",
      "source": [
        "#### Simple Model"
      ],
      "metadata": {
        "id": "3vuhH9AYUxHS"
      }
    },
    {
      "cell_type": "code",
      "source": [
        "input = Input(shape=(32, 32, 3))\n",
        "x = Conv2D(32, (3, 3), activation='relu')(input)\n",
        "x = MaxPooling2D((2, 2))(x)\n",
        "x = Conv2D(64, (3, 3), activation='relu')(x)\n",
        "x = MaxPooling2D((2, 2))(x)\n",
        "x = Flatten()(x)\n",
        "x = Dense(512, activation='relu')(x)\n",
        "x = BatchNormalization()(x)\n",
        "x = Dense(128, activation='relu')(x)\n",
        "output = Dense(10, activation='softmax')(x)\n",
        "\n",
        "model = Model(input, output)\n",
        "model.summary()"
      ],
      "metadata": {
        "colab": {
          "base_uri": "https://localhost:8080/"
        },
        "id": "yNuDzAO3Qvr3",
        "outputId": "9014e169-6a92-47da-f21e-b8326b2654d5"
      },
      "execution_count": 33,
      "outputs": [
        {
          "output_type": "stream",
          "name": "stdout",
          "text": [
            "Model: \"model_5\"\n",
            "_________________________________________________________________\n",
            " Layer (type)                Output Shape              Param #   \n",
            "=================================================================\n",
            " input_7 (InputLayer)        [(None, 32, 32, 3)]       0         \n",
            "                                                                 \n",
            " conv2d_11 (Conv2D)          (None, 30, 30, 32)        896       \n",
            "                                                                 \n",
            " max_pooling2d_6 (MaxPoolin  (None, 15, 15, 32)        0         \n",
            " g2D)                                                            \n",
            "                                                                 \n",
            " flatten_4 (Flatten)         (None, 7200)              0         \n",
            "                                                                 \n",
            " dense_12 (Dense)            (None, 512)               3686912   \n",
            "                                                                 \n",
            " batch_normalization_3 (Bat  (None, 512)               2048      \n",
            " chNormalization)                                                \n",
            "                                                                 \n",
            " dense_13 (Dense)            (None, 128)               65664     \n",
            "                                                                 \n",
            " dense_14 (Dense)            (None, 10)                1290      \n",
            "                                                                 \n",
            "=================================================================\n",
            "Total params: 3756810 (14.33 MB)\n",
            "Trainable params: 3755786 (14.33 MB)\n",
            "Non-trainable params: 1024 (4.00 KB)\n",
            "_________________________________________________________________\n"
          ]
        }
      ]
    },
    {
      "cell_type": "code",
      "source": [
        "model.compile(loss='sparse_categorical_crossentropy', optimizer='adam',\n",
        "                metrics=['accuracy'])\n",
        "history = model.fit(x_train, y_train, batch_size=32, epochs=5, validation_split=0.2)"
      ],
      "metadata": {
        "colab": {
          "base_uri": "https://localhost:8080/"
        },
        "id": "oFDQZplTRAuU",
        "outputId": "8795b51a-25b7-4886-d4b8-12f3f6d37933"
      },
      "execution_count": 34,
      "outputs": [
        {
          "output_type": "stream",
          "name": "stdout",
          "text": [
            "Epoch 1/5\n",
            "1250/1250 [==============================] - 119s 95ms/step - loss: 1.3369 - accuracy: 0.5234 - val_loss: 1.5053 - val_accuracy: 0.4935\n",
            "Epoch 2/5\n",
            "1250/1250 [==============================] - 115s 92ms/step - loss: 1.0317 - accuracy: 0.6325 - val_loss: 1.2377 - val_accuracy: 0.5768\n",
            "Epoch 3/5\n",
            "1250/1250 [==============================] - 128s 102ms/step - loss: 0.8877 - accuracy: 0.6859 - val_loss: 1.0891 - val_accuracy: 0.6265\n",
            "Epoch 4/5\n",
            "1250/1250 [==============================] - 116s 93ms/step - loss: 0.7623 - accuracy: 0.7314 - val_loss: 1.3523 - val_accuracy: 0.5727\n",
            "Epoch 5/5\n",
            "1250/1250 [==============================] - 117s 94ms/step - loss: 0.6523 - accuracy: 0.7697 - val_loss: 1.4277 - val_accuracy: 0.5908\n"
          ]
        }
      ]
    },
    {
      "cell_type": "code",
      "source": [
        "y_pred = model.predict(x_test)\n",
        "y_pred = np.argmax(y_pred, axis=1)\n",
        "\n",
        "print(\"Confusion Matrix:\")\n",
        "print(confusion_matrix(y_test, y_pred))"
      ],
      "metadata": {
        "colab": {
          "base_uri": "https://localhost:8080/"
        },
        "id": "00-TCRx2RECE",
        "outputId": "ba923e9b-cac4-4c4c-dea8-64d0e370e2d4"
      },
      "execution_count": 35,
      "outputs": [
        {
          "output_type": "stream",
          "name": "stdout",
          "text": [
            "313/313 [==============================] - 6s 20ms/step\n",
            "Confusion Matrix:\n",
            "[[594  38 137  49  66   6  44   8  39  19]\n",
            " [ 22 818  15  35  19   6  47   0  12  26]\n",
            " [ 46   7 478 101 170  45 132  15   5   1]\n",
            " [  8  10  70 535 134  71 154   9   8   1]\n",
            " [  8   3  75  74 698   9 114  12   6   1]\n",
            " [  6   7  61 351 108 351  85  29   1   1]\n",
            " [  3   4  25  61  60  10 834   0   2   1]\n",
            " [ 11  12  47 106 212  42  47 515   4   4]\n",
            " [107  80  45  53  38   2  45   5 609  16]\n",
            " [ 38 284  11 101  46  15  69  12  25 399]]\n"
          ]
        }
      ]
    },
    {
      "cell_type": "code",
      "source": [
        "print(classification_report(y_test, y_pred))"
      ],
      "metadata": {
        "colab": {
          "base_uri": "https://localhost:8080/"
        },
        "id": "uP7i9Ev-Udtz",
        "outputId": "72c2340b-2f55-4f95-c2d3-01ab84cccea8"
      },
      "execution_count": 36,
      "outputs": [
        {
          "output_type": "stream",
          "name": "stdout",
          "text": [
            "              precision    recall  f1-score   support\n",
            "\n",
            "           0       0.70      0.59      0.64      1000\n",
            "           1       0.65      0.82      0.72      1000\n",
            "           2       0.50      0.48      0.49      1000\n",
            "           3       0.36      0.54      0.43      1000\n",
            "           4       0.45      0.70      0.55      1000\n",
            "           5       0.63      0.35      0.45      1000\n",
            "           6       0.53      0.83      0.65      1000\n",
            "           7       0.85      0.52      0.64      1000\n",
            "           8       0.86      0.61      0.71      1000\n",
            "           9       0.85      0.40      0.54      1000\n",
            "\n",
            "    accuracy                           0.58     10000\n",
            "   macro avg       0.64      0.58      0.58     10000\n",
            "weighted avg       0.64      0.58      0.58     10000\n",
            "\n"
          ]
        }
      ]
    },
    {
      "cell_type": "markdown",
      "source": [
        "#### Skip connection"
      ],
      "metadata": {
        "id": "fCiVdLMcU9Pj"
      }
    },
    {
      "cell_type": "code",
      "source": [
        "input = Input(shape=(32, 32, 3))\n",
        "\n",
        "conv1 = Conv2D(32, (3, 3), activation='relu', padding='same')(input)\n",
        "conv2 = Conv2D(32, (3, 3), activation='relu', padding='same')(conv1)\n",
        "skip1 = Concatenate()([conv1, conv2])\n",
        "\n",
        "pool1 = MaxPooling2D((2, 2))(skip1)\n",
        "\n",
        "conv3 = Conv2D(64, (3, 3), activation='relu', padding='same')(pool1)\n",
        "conv4 = Conv2D(64, (3, 3), activation='relu', padding='same')(conv3)\n",
        "skip2 = Concatenate()([pool1, conv4])\n",
        "\n",
        "pool2 = MaxPooling2D((2, 2))(skip2)\n",
        "\n",
        "x = Flatten()(pool2)\n",
        "x = Dense(512, activation='relu')(x)\n",
        "x = Dropout(0.2)(x)\n",
        "x = Dense(128, activation='relu')(x)\n",
        "output = Dense(10, activation='softmax')(x)\n",
        "\n",
        "model = Model(input, output)\n",
        "model.summary()"
      ],
      "metadata": {
        "colab": {
          "base_uri": "https://localhost:8080/"
        },
        "id": "H6v3dlkrUtwl",
        "outputId": "b81f8829-2cab-4a02-a0e8-cff953f2a322"
      },
      "execution_count": 47,
      "outputs": [
        {
          "output_type": "stream",
          "name": "stdout",
          "text": [
            "Model: \"model_9\"\n",
            "__________________________________________________________________________________________________\n",
            " Layer (type)                Output Shape                 Param #   Connected to                  \n",
            "==================================================================================================\n",
            " input_13 (InputLayer)       [(None, 32, 32, 3)]          0         []                            \n",
            "                                                                                                  \n",
            " conv2d_26 (Conv2D)          (None, 32, 32, 32)           896       ['input_13[0][0]']            \n",
            "                                                                                                  \n",
            " conv2d_27 (Conv2D)          (None, 32, 32, 32)           9248      ['conv2d_26[0][0]']           \n",
            "                                                                                                  \n",
            " concatenate_10 (Concatenat  (None, 32, 32, 64)           0         ['conv2d_26[0][0]',           \n",
            " e)                                                                  'conv2d_27[0][0]']           \n",
            "                                                                                                  \n",
            " max_pooling2d_14 (MaxPooli  (None, 16, 16, 64)           0         ['concatenate_10[0][0]']      \n",
            " ng2D)                                                                                            \n",
            "                                                                                                  \n",
            " conv2d_28 (Conv2D)          (None, 16, 16, 64)           36928     ['max_pooling2d_14[0][0]']    \n",
            "                                                                                                  \n",
            " conv2d_29 (Conv2D)          (None, 16, 16, 64)           36928     ['conv2d_28[0][0]']           \n",
            "                                                                                                  \n",
            " concatenate_11 (Concatenat  (None, 16, 16, 128)          0         ['max_pooling2d_14[0][0]',    \n",
            " e)                                                                  'conv2d_29[0][0]']           \n",
            "                                                                                                  \n",
            " max_pooling2d_15 (MaxPooli  (None, 8, 8, 128)            0         ['concatenate_11[0][0]']      \n",
            " ng2D)                                                                                            \n",
            "                                                                                                  \n",
            " flatten_8 (Flatten)         (None, 8192)                 0         ['max_pooling2d_15[0][0]']    \n",
            "                                                                                                  \n",
            " dense_23 (Dense)            (None, 512)                  4194816   ['flatten_8[0][0]']           \n",
            "                                                                                                  \n",
            " dropout (Dropout)           (None, 512)                  0         ['dense_23[0][0]']            \n",
            "                                                                                                  \n",
            " dense_24 (Dense)            (None, 128)                  65664     ['dropout[0][0]']             \n",
            "                                                                                                  \n",
            " dense_25 (Dense)            (None, 10)                   1290      ['dense_24[0][0]']            \n",
            "                                                                                                  \n",
            "==================================================================================================\n",
            "Total params: 4345770 (16.58 MB)\n",
            "Trainable params: 4345770 (16.58 MB)\n",
            "Non-trainable params: 0 (0.00 Byte)\n",
            "__________________________________________________________________________________________________\n"
          ]
        }
      ]
    },
    {
      "cell_type": "code",
      "source": [
        "keras.utils.plot_model(model)"
      ],
      "metadata": {
        "colab": {
          "base_uri": "https://localhost:8080/",
          "height": 1000
        },
        "id": "dmbQIjdSij1i",
        "outputId": "d5845fde-e504-4620-e052-b31308ec32a8"
      },
      "execution_count": 50,
      "outputs": [
        {
          "output_type": "execute_result",
          "data": {
            "image/png": "[encoded data removed]",
            "text/plain": [
              "<IPython.core.display.Image object>"
            ]
          },
          "metadata": {},
          "execution_count": 50
        }
      ]
    },
    {
      "cell_type": "code",
      "source": [
        "model.compile(optimizer='adam', loss='sparse_categorical_crossentropy', metrics=['accuracy'])\n",
        "model.fit(x_train, y_train, batch_size=32, epochs=5, validation_split=0.2)"
      ],
      "metadata": {
        "colab": {
          "base_uri": "https://localhost:8080/"
        },
        "id": "oxMtS5E1V2SS",
        "outputId": "8b7c2c6b-6a1d-4edb-9d75-fbe91966bbe9"
      },
      "execution_count": 48,
      "outputs": [
        {
          "output_type": "stream",
          "name": "stdout",
          "text": [
            "Epoch 1/5\n",
            "1250/1250 [==============================] - 366s 291ms/step - loss: 1.3814 - accuracy: 0.4990 - val_loss: 1.0094 - val_accuracy: 0.6498\n",
            "Epoch 2/5\n",
            "1250/1250 [==============================] - 394s 315ms/step - loss: 0.9459 - accuracy: 0.6632 - val_loss: 0.8503 - val_accuracy: 0.7095\n",
            "Epoch 3/5\n",
            "1250/1250 [==============================] - 357s 286ms/step - loss: 0.7794 - accuracy: 0.7264 - val_loss: 0.8523 - val_accuracy: 0.7052\n",
            "Epoch 4/5\n",
            "1250/1250 [==============================] - 357s 286ms/step - loss: 0.6600 - accuracy: 0.7689 - val_loss: 0.7624 - val_accuracy: 0.7383\n",
            "Epoch 5/5\n",
            "1250/1250 [==============================] - 362s 290ms/step - loss: 0.5608 - accuracy: 0.8014 - val_loss: 0.7525 - val_accuracy: 0.7450\n"
          ]
        },
        {
          "output_type": "execute_result",
          "data": {
            "text/plain": [
              "<keras.src.callbacks.History at 0x7dda00823a30>"
            ]
          },
          "metadata": {},
          "execution_count": 48
        }
      ]
    },
    {
      "cell_type": "code",
      "source": [
        "y_pred = model.predict(x_test)\n",
        "y_pred = np.argmax(y_pred, axis=1)\n",
        "\n",
        "print(\"Confusion Matrix:\")\n",
        "print(confusion_matrix(y_test, y_pred))"
      ],
      "metadata": {
        "colab": {
          "base_uri": "https://localhost:8080/"
        },
        "id": "lTOkmmCwnCdo",
        "outputId": "569bf461-7c79-4906-f3bf-afb6a39c4534"
      },
      "execution_count": 51,
      "outputs": [
        {
          "output_type": "stream",
          "name": "stdout",
          "text": [
            "313/313 [==============================] - 22s 72ms/step\n",
            "Confusion Matrix:\n",
            "[[828  12  27  25  26   6   2   6  41  27]\n",
            " [ 30 842   7   7   1   6   5   4   9  89]\n",
            " [ 85   3 589  55 121  87  33  10  10   7]\n",
            " [ 26   4  56 507  91 247  30  22   4  13]\n",
            " [ 15   1  58  45 781  45  18  27   7   3]\n",
            " [ 14   1  28 125  68 718   7  30   5   4]\n",
            " [  9   3  61  59  67  65 726   1   4   5]\n",
            " [  9   0  23  42 100  84   1 729   1  11]\n",
            " [ 84  21  13  16   8   7   3   8 812  28]\n",
            " [ 43  42   1  20   5   7   3  24  14 841]]\n"
          ]
        }
      ]
    },
    {
      "cell_type": "code",
      "source": [
        "print(classification_report(y_test, y_pred))"
      ],
      "metadata": {
        "colab": {
          "base_uri": "https://localhost:8080/"
        },
        "id": "YqIwkpofnOJj",
        "outputId": "4502e951-d935-4dc2-f8e6-045218eb9f96"
      },
      "execution_count": 52,
      "outputs": [
        {
          "output_type": "stream",
          "name": "stdout",
          "text": [
            "              precision    recall  f1-score   support\n",
            "\n",
            "           0       0.72      0.83      0.77      1000\n",
            "           1       0.91      0.84      0.87      1000\n",
            "           2       0.68      0.59      0.63      1000\n",
            "           3       0.56      0.51      0.53      1000\n",
            "           4       0.62      0.78      0.69      1000\n",
            "           5       0.56      0.72      0.63      1000\n",
            "           6       0.88      0.73      0.79      1000\n",
            "           7       0.85      0.73      0.78      1000\n",
            "           8       0.90      0.81      0.85      1000\n",
            "           9       0.82      0.84      0.83      1000\n",
            "\n",
            "    accuracy                           0.74     10000\n",
            "   macro avg       0.75      0.74      0.74     10000\n",
            "weighted avg       0.75      0.74      0.74     10000\n",
            "\n"
          ]
        }
      ]
    },
    {
      "cell_type": "markdown",
      "source": [
        "Accuracy increased from 0.58 to 0.74 with skip connection"
      ],
      "metadata": {
        "id": "UJbtdqoq7yeu"
      }
    }
  ]
}